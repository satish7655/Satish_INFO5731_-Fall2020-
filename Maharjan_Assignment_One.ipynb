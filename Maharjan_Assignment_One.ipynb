{
 "cells": [
  {
   "cell_type": "markdown",
   "metadata": {
    "colab_type": "text",
    "id": "view-in-github"
   },
   "source": [
    "<a href=\"https://colab.research.google.com/github/unt-iialab/INFO5731_Spring2020/blob/master/Assignments/INFO5731_Assignment_One.ipynb\" target=\"_parent\"><img src=\"https://colab.research.google.com/assets/colab-badge.svg\" alt=\"Open In Colab\"/></a>"
   ]
  },
  {
   "cell_type": "markdown",
   "metadata": {
    "colab_type": "text",
    "id": "Ryk8D1Q4Wsrp"
   },
   "source": [
    "# **INFO5731 Assignment One**"
   ]
  },
  {
   "cell_type": "markdown",
   "metadata": {
    "colab_type": "text",
    "id": "90_NR8c5XGWc"
   },
   "source": [
    "# Question 1\n",
    "\n",
    "(20 points). Write a Python program to generate 12 random numbers between 1 and 100. Sort the list of numbers in ascending order and print it out. Sort the list of numbers in descending order and print it out. Calculate the average for the group and print it out."
   ]
  },
  {
   "cell_type": "code",
   "execution_count": 22,
   "metadata": {
    "colab": {},
    "colab_type": "code",
    "id": "5QX6bJjGWXY9"
   },
   "outputs": [
    {
     "name": "stdout",
     "output_type": "stream",
     "text": [
      "The random numbers between 1 an 100 are: \n",
      " [66, 68, 91, 38, 65, 12, 8, 62, 77, 70, 90, 61]\n",
      "\n",
      "The sorted order:  [8, 12, 38, 61, 62, 65, 66, 68, 70, 77, 90, 91]\n",
      "\n",
      "The average of these number is 59.0\n"
     ]
    }
   ],
   "source": [
    "# Your code here\n",
    "import random \n",
    "mylist=[]\n",
    "for i in range(0,12):\n",
    "    x = random.randrange(1,100)\n",
    "    mylist.append(x)\n",
    "print(\"The random numbers between 1 an 100 are: \\n\" , mylist)\n",
    "Average=sum(mylist)/12\n",
    "\n",
    "print(\"\\nThe sorted order: \",sorted(mylist))\n",
    "print(\"\\nThe average of these number is\" ,Average)\n"
   ]
  },
  {
   "cell_type": "markdown",
   "metadata": {
    "colab_type": "text",
    "id": "1F_PZdH9Sh49"
   },
   "source": [
    "# Question 2\n",
    "(25 points). Write a program that will do the following string formatting tasks:\n",
    "\n",
    "(1) Ask the user to enter two sentences.\n",
    "\n",
    "(2) Make each sentence into a list. Each element in the list should correspond to a word in the sentence. For example, if the sentence is \"Alas! Am I alive? This is my first python program\", the program should print out ['Alas, '!', 'Am', 'I', 'alive, '?', 'This', 'is', 'my', 'first', 'python', 'program'].\n",
    "\n",
    "(3) Compare the two sentences. Print out a list of words that occur in both sentences.\n",
    "\n",
    "(4) Remove any punctuation from the sentence and print it back out. It should remove at least the following characters, but it can remove more: period(“.”), comma (“,”), semicolon (“;”), and colon (“:”)\n",
    "\n",
    "(5) Count the number of vowels in the sentences. Print out each vowel and the number of times it appears in the sentences, such as: a:2, e:1, i:0, etc"
   ]
  },
  {
   "cell_type": "code",
   "execution_count": 26,
   "metadata": {
    "colab": {},
    "colab_type": "code",
    "id": "Y0oOSlsOS0cq"
   },
   "outputs": [
    {
     "name": "stdout",
     "output_type": "stream",
     "text": [
      "Please enter a sentence of your choice: My name is Satish ^ % $ #\n",
      "Please enter aanother sentence of your choice: Satish is my name\n",
      "\n",
      "\n",
      "The first set of sentences that user provided in a list is ['my', 'name', 'is', 'satish', '^', '%', '$', '#']\n",
      "The second set of sentences that user provided in a list is ['satish', 'is', 'my', 'name']\n",
      "\n",
      "The common words in two sets are :  {'is', 'name', 'Satish'}\n",
      "\n",
      "The sentences you entered without punctuations is:  My name is Satish    \n",
      "None\n",
      "The total number of vowels in a given set is : 5\n",
      "\n",
      " None\n",
      "\n",
      "The sentences you entered without punctuations is:  Satish is my name\n",
      "None\n",
      "The total number of vowels in a given set is : 5\n",
      "\n",
      " None\n"
     ]
    }
   ],
   "source": [
    "# Your code here\n",
    "def convert(sentence):\n",
    "    return(sentence.split())\n",
    "\n",
    "user_sentence_1=input(\"Please enter a sentence of your choice: \")\n",
    "user_sentence_2=input(\"Please enter aanother sentence of your choice: \")\n",
    "print(\"\\n\")\n",
    "print(\"The first set of sentences that user provided in a list is\",convert(user_sentence_1.lower()))\n",
    "print(\"The second set of sentences that user provided in a list is\",convert(user_sentence_2.lower()))\n",
    "\n",
    "\n",
    "#2.3\n",
    "def compare(a,b):\n",
    "    st1=set(a.split())\n",
    "    st2=set(b.split())\n",
    "    common=st1 & st2\n",
    "    print (\"\\nThe common words in two sets are : \",common)\n",
    "    \n",
    "# calling the function\n",
    "compare(user_sentence_1,user_sentence_2)\n",
    "\n",
    "#2.4.\n",
    "def Punctuation(string): \n",
    "  \n",
    "    # punctuation marks \n",
    "    punctuations = '''!()-[]{};:'\"\\,<>./?@#$%^&*_~'''\n",
    "    # traverse the given string and if any punctuation \n",
    "    # marks occur replace it with null \n",
    "    for i in string.lower(): \n",
    "        if i in punctuations: \n",
    "            string = string.replace(i, \"\")   \n",
    "    # Print string without punctuation \n",
    "    print(\"\\nThe sentences you entered without punctuations is: \",string)  \n",
    "    \n",
    "  \n",
    "\n",
    "#2.5.Count Vowel\n",
    "def count_vowel(string): \n",
    "    count = 0\n",
    "    vowel = set(\"AEIOUaeiou\") \n",
    "      \n",
    "    # Loop to traverse the alphabet in the given string \n",
    "    for alphabet in string: \n",
    "      \n",
    "        if alphabet in vowel: \n",
    "            count = count + 1\n",
    "    print(\"The total number of vowels in a given set is :\", count) \n",
    "        \n",
    "  \n",
    "print(Punctuation(user_sentence_1)) \n",
    "print(\"\\n\",count_vowel(user_sentence_1)) \n",
    "   \n",
    "print(Punctuation(user_sentence_2)) \n",
    "print(\"\\n\",count_vowel(user_sentence_2))    "
   ]
  },
  {
   "cell_type": "markdown",
   "metadata": {
    "colab_type": "text",
    "id": "CmFoI4jDS9nx"
   },
   "source": [
    "# Question 3 \n",
    "\n",
    "(15 points). The formula that describes the volume V of a sphere with radius r is the following:\n",
    "\n",
    "$ V=\\frac{4}{3}\\ast\\ \\pi\\ast\\ r^3 $\n",
    "\n",
    "Write a program to calculate the value of V when r is in the range of 1–10. Output the result in the following format:\n",
    "\n",
    "\tr\tV\n",
    "\t1\t…\n",
    "\t2\t…\n",
    "\t3\t…\n"
   ]
  },
  {
   "cell_type": "code",
   "execution_count": 9,
   "metadata": {
    "colab": {},
    "colab_type": "code",
    "id": "pEyqeioAT95b"
   },
   "outputs": [
    {
     "name": "stdout",
     "output_type": "stream",
     "text": [
      "r\t      V\n",
      "1 -->\t  4.19\n",
      "2 -->\t  33.49\n",
      "3 -->\t  113.04\n",
      "4 -->\t  267.95\n",
      "5 -->\t  523.33\n",
      "6 -->\t  904.32\n",
      "7 -->\t  1436.03\n",
      "8 -->\t  2143.57\n",
      "9 -->\t  3052.08\n",
      "10 -->\t  4186.67\n"
     ]
    }
   ],
   "source": [
    "import math\n",
    "def calculate_V(r):\n",
    "    pi=3.14\n",
    "    return(4/3)*pi*math.pow(r,3)\n",
    "\n",
    "\n",
    "print(\"r\\t      V\")\n",
    "radius=1\n",
    "# Loop to print volume for radius range 1-10\n",
    "while (radius <=10):\n",
    "   print(radius,\"-->\\t \",round(calculate_V(radius),2))\n",
    "   radius += 1\n"
   ]
  },
  {
   "cell_type": "code",
   "execution_count": 0,
   "metadata": {
    "colab": {},
    "colab_type": "code",
    "id": "pMCr3l8tnu0j"
   },
   "outputs": [],
   "source": []
  },
  {
   "cell_type": "markdown",
   "metadata": {
    "colab_type": "text",
    "id": "z3tBE7E-Xn5X"
   },
   "source": [
    "# Question 4\n",
    "\n",
    "(40 points). In the field of Data Science, data is often formatted as a comma-delimited (CSV) file, where each line in a file corresponds to a field's value. Refer to Chapter 9 (p. 106) for more information on comma-delimited files. To answer this question, you will need to download the file [Assignment1_denton_housing.csv](https://github.com/unt-iialab/INFO5731_Spring2020/blob/master/Assignments/Assignment1_denton_housing.csv) included with this assignment. The [file Assignment1_denton_housing.csv](https://github.com/unt-iialab/INFO5731_Spring2020/blob/master/Assignments/Assignment1_denton_housing.csv) contains statistics about housing in the city of Denton from 2008 to 2014. Write a program to implement the following questions.\n",
    "\n",
    "(1) (10 pts) Calculate the difference in the number of Occupied Housing Units from year to year and print it. The difference must be calculated for the consecutive years such as 2008-2009, 2009-2010 etc. Finally, print the values in the ascending order.\n",
    "\n",
    "(2) (10 pts) For all the years, calculate the percentage of housing units which are vacant an occupied. Print the results in the following format:\n",
    "\n",
    "Year Vacant Housing Units Occupied Housing Units\n",
    "\n",
    "    2008  30%   70%                          \n",
    "\t2009 ----- -----\n",
    "\t2010 ----- -----\n",
    "    2011 ----- -----\n",
    "\t2012 ----- -----\n",
    "    2013 ----- -----\n",
    "\t2014 ----- -----\n",
    "  \n",
    "  \n",
    "\n",
    "(3) (10 pts) Calculate and print the valued and years in which the highest number of housing units were vacant and occupied. Print the results in the following format:  \n",
    "\n",
    "                              Year\tValue\n",
    "\tVacant Housing Units\t  -----   -----\n",
    "\tOccupied Housing Units\t-----   -----\n",
    "\n",
    "(4) (10 pts) Calculate the harmonic mean of the total housing units and print it out. You can find the information about harmonic mean here: https://ncalculators.com/statistics/harmonic-mean-calculator.htm"
   ]
  },
  {
   "cell_type": "code",
   "execution_count": 27,
   "metadata": {
    "colab": {},
    "colab_type": "code",
    "id": "lqGYuHBhcsRH"
   },
   "outputs": [
    {
     "name": "stdout",
     "output_type": "stream",
     "text": [
      "For year 2014 - 2013: 2622\n",
      "For year 2013 - 2012: 1565\n",
      "For year 2012 - 2011: 1404\n",
      "For year 2011 - 2010: -303\n",
      "For year 2010 - 2009: 5091\n",
      "For year 2009 - 2008: -795\n"
     ]
    }
   ],
   "source": [
    "#4.1\n",
    "import csv\n",
    "housing_units_occupied={}\n",
    "with open(\"Assignment1_denton_housing.csv\", newline='') as File:\n",
    "    reader = csv.reader(File)\n",
    "    previousYearValues = ['year', 'title_field', '0']\n",
    "    for row in reader:\n",
    "        title_field = row[1]\n",
    "        if title_field =='Occupied Housing Units':\n",
    "            year = row[0]\n",
    "            if previousYearValues[0] != 'year':\n",
    "                value = int(row[2])\n",
    "                diff = int(previousYearValues[2])-value\n",
    "                print(\"For year {prevYear} - {currYear}: {diffVal}\".format(prevYear=previousYearValues[0],currYear=year,diffVal=diff))\n",
    "            previousYearValues = row"
   ]
  },
  {
   "cell_type": "code",
   "execution_count": 29,
   "metadata": {},
   "outputs": [
    {
     "name": "stdout",
     "output_type": "stream",
     "text": [
      "Vacant Housing Units in the year 2014 is 5.730110570363885%\n",
      "Occupied Housing Units in the year 2014 is 94.26988942963611%\n",
      "\n",
      "Vacant Housing Units in the year 2013 is 8.801787504176412%\n",
      "Occupied Housing Units in the year 2013 is 91.19821249582358%\n",
      "\n",
      "Vacant Housing Units in the year 2012 is 6.677600230491346%\n",
      "Occupied Housing Units in the year 2012 is 93.32239976950866%\n",
      "\n",
      "Vacant Housing Units in the year 2011 is 9.379522229890688%\n",
      "Occupied Housing Units in the year 2011 is 90.6204777701093%\n",
      "\n",
      "Vacant Housing Units in the year 2010 is 8.142556337081672%\n",
      "Occupied Housing Units in the year 2010 is 91.85744366291833%\n",
      "\n",
      "Vacant Housing Units in the year 2009 is 9.07111572444872%\n",
      "Occupied Housing Units in the year 2009 is 90.92888427555128%\n",
      "\n",
      "Vacant Housing Units in the year 2008 is 10.88265281351653%\n",
      "Occupied Housing Units in the year 2008 is 89.11734718648347%\n",
      "\n"
     ]
    }
   ],
   "source": [
    "#4.2\n",
    "import csv\n",
    "housing_units_occupied={}\n",
    "with open(\"Assignment1_denton_housing.csv\", newline='') as File:\n",
    "    reader = csv.reader(File)\n",
    "    previousYearValues = ['year', 'title_field', '0']\n",
    "    totalVal = 0\n",
    "    for row in reader:\n",
    "\n",
    "        if row[1] == 'Total Housing Units':\n",
    "            totalVal = int(row[2])\n",
    "        if row[1] == 'Vacant Housing Units':\n",
    "            vacPercentage = int(row[2])/totalVal\n",
    "            print('Vacant Housing Units in the year {year} is {vac}'.format(year=row[0],vac=vacPercentage*int(100))+\"%\")\n",
    "        if row[1] == 'Occupied Housing Units':\n",
    "            occPercentage = int(row[2])/totalVal\n",
    "            print('Occupied Housing Units in the year {year} is {vac}'.format(year=row[0],vac=occPercentage*int(100))+\"%\\n\")"
   ]
  },
  {
   "cell_type": "code",
   "execution_count": 8,
   "metadata": {},
   "outputs": [
    {
     "name": "stdout",
     "output_type": "stream",
     "text": [
      "For year 2014 - 2013: 2622\n",
      "For year 2013 - 2012: 1565\n",
      "For year 2012 - 2011: 1404\n",
      "For year 2011 - 2010: -303\n",
      "For year 2010 - 2009: 5091\n",
      "For year 2009 - 2008: -795\n"
     ]
    }
   ],
   "source": []
  },
  {
   "cell_type": "code",
   "execution_count": 16,
   "metadata": {},
   "outputs": [
    {
     "name": "stdout",
     "output_type": "stream",
     "text": [
      "Title\t\t\t\tMaxValue\n",
      "Max Vacant Housing Units\t: 4483\n",
      "Max Occupied Housing Units\t:  46295\n"
     ]
    }
   ],
   "source": [
    "\n",
    "#4.3 \n",
    "import csv\n",
    "housing_units_occupied={}\n",
    "with open(\"Assignment1_denton_housing.csv\", newline='') as File:\n",
    "    reader = csv.reader(File)\n",
    "    previousYearValues = ['year', 'title_field', '0']\n",
    "    total_Vac =[]\n",
    "    total_Occ=[]\n",
    "    for row in reader:\n",
    "        if row[1] == 'Vacant Housing Units':\n",
    "            total_Vac.append(row[2])\n",
    "            #print(total_Vac)\n",
    "        if row[1] == 'Occupied Housing Units':\n",
    "            total_Occ.append(row[2])\n",
    "\n",
    "\n",
    "    print(\"Title\\t\\t\\t\\tMaxValue\")\n",
    "    print(\"Max Vacant Housing Units\\t:\",max(total_Vac))\n",
    "    print(\"Max Occupied Housing Units\\t: \",max(total_Occ))"
   ]
  },
  {
   "cell_type": "code",
   "execution_count": 28,
   "metadata": {},
   "outputs": [
    {
     "name": "stdout",
     "output_type": "stream",
     "text": [
      ".....Now appending total housng units for diff year....\n",
      "[49109, 47888, 45121, 44917, 44642, 39499, 41194]\n",
      "\n",
      "Harmonic mean of the total housing units: 44398 \n"
     ]
    }
   ],
   "source": [
    "#4.4 \n",
    "import statistics\n",
    "import csv\n",
    "\n",
    "\n",
    "total_housing_units=[]\n",
    "with open('Assignment1_denton_housing.csv', newline='') as File:\n",
    "    reader = csv.reader(File)\n",
    "    for i in reader:\n",
    "        #print(row)\n",
    "        if i[1]==\"Total Housing Units\":\n",
    "            total_housing_units.append(int(i[2]))\n",
    "    print(\".....Now appending total housng units for diff year....\")\n",
    "    print(total_housing_units)\n",
    "\n",
    "\n",
    "print(\"\\nHarmonic mean of the total housing units: % s \" % round(statistics.harmonic_mean(total_housing_units))) \n"
   ]
  },
  {
   "cell_type": "code",
   "execution_count": null,
   "metadata": {},
   "outputs": [],
   "source": []
  }
 ],
 "metadata": {
  "colab": {
   "authorship_tag": "ABX9TyOAjsNCkNulTpzgRQbHdy3f",
   "collapsed_sections": [],
   "include_colab_link": true,
   "name": "INFO5731_Assignment_One.ipynb",
   "provenance": []
  },
  "kernelspec": {
   "display_name": "Python 3",
   "language": "python",
   "name": "python3"
  },
  "language_info": {
   "codemirror_mode": {
    "name": "ipython",
    "version": 3
   },
   "file_extension": ".py",
   "mimetype": "text/x-python",
   "name": "python",
   "nbconvert_exporter": "python",
   "pygments_lexer": "ipython3",
   "version": "3.8.3"
  }
 },
 "nbformat": 4,
 "nbformat_minor": 1
}
