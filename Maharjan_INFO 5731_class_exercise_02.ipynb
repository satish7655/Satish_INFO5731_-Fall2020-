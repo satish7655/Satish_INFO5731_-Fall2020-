{
 "cells": [
  {
   "cell_type": "markdown",
   "metadata": {
    "colab_type": "text",
    "id": "view-in-github"
   },
   "source": [
    "<a href=\"https://colab.research.google.com/github/unt-iialab/INFO5731_Spring2020/blob/master/In_class_exercise/In_class_exercise_02.ipynb\" target=\"_parent\"><img src=\"https://colab.research.google.com/assets/colab-badge.svg\" alt=\"Open In Colab\"/></a>"
   ]
  },
  {
   "cell_type": "markdown",
   "metadata": {
    "colab_type": "text",
    "id": "oo5bsEh2eeWi"
   },
   "source": [
    "# **The second In-class-exercise (1/27/2021, 20 points in total)**\n"
   ]
  },
  {
   "cell_type": "markdown",
   "metadata": {
    "colab_type": "text",
    "id": "2sPQ58dIeqgp"
   },
   "source": [
    "(1) Write a Python program to find the duplicate elements in a given array of integers. Return -1 If there are no such elements. (4 points)"
   ]
  },
  {
   "cell_type": "code",
   "execution_count": 2,
   "metadata": {
    "colab": {},
    "colab_type": "code",
    "id": "mnrvKMFTeoJR",
    "scrolled": true
   },
   "outputs": [
    {
     "name": "stdout",
     "output_type": "stream",
     "text": [
      "The duplicate values on the given list are:\n",
      " [10, 18, 90]\n"
     ]
    }
   ],
   "source": [
    "def findDuplicate(element):\n",
    "    dups_value = []\n",
    "    uniq_value = {}\n",
    "    for i in element:\n",
    "       if i not in uniq_value:\n",
    "          uniq_value[i] = 1\n",
    "       else:\n",
    "          if uniq_value[i] == 1:\n",
    "             dups_value.append(i)\n",
    "          uniq_value[i] += 1\n",
    "    print(\"The duplicate values on the given list are:\\n\",dups_value)  \n",
    "\n",
    "\n",
    "list = [10,18,28,90,10,18,90,90,90]\n",
    "findDuplicate(list)\n"
   ]
  },
  {
   "cell_type": "markdown",
   "metadata": {
    "colab_type": "text",
    "id": "YYrH6n6IhZoQ"
   },
   "source": [
    "(2) Write a Python program to select all the Sundays of a specified year. (4 points)\n",
    "\n"
   ]
  },
  {
   "cell_type": "code",
   "execution_count": 5,
   "metadata": {
    "colab": {},
    "colab_type": "code",
    "id": "OSfPLd23eLpX"
   },
   "outputs": [
    {
     "name": "stdout",
     "output_type": "stream",
     "text": [
      "enter the year for which you want to find all Sundays: 2000\n",
      "Sunday,2-1-2000\n",
      "Sunday,9-1-2000\n",
      "Sunday,16-1-2000\n",
      "Sunday,23-1-2000\n",
      "Sunday,30-1-2000\n",
      "Sunday,6-2-2000\n",
      "Sunday,13-2-2000\n",
      "Sunday,20-2-2000\n",
      "Sunday,27-2-2000\n",
      "Sunday,5-3-2000\n",
      "Sunday,12-3-2000\n",
      "Sunday,19-3-2000\n",
      "Sunday,26-3-2000\n",
      "Sunday,2-4-2000\n",
      "Sunday,9-4-2000\n",
      "Sunday,16-4-2000\n",
      "Sunday,23-4-2000\n",
      "Sunday,30-4-2000\n",
      "Sunday,7-5-2000\n",
      "Sunday,14-5-2000\n",
      "Sunday,21-5-2000\n",
      "Sunday,28-5-2000\n",
      "Sunday,4-6-2000\n",
      "Sunday,11-6-2000\n",
      "Sunday,18-6-2000\n",
      "Sunday,25-6-2000\n",
      "Sunday,2-7-2000\n",
      "Sunday,9-7-2000\n",
      "Sunday,16-7-2000\n",
      "Sunday,23-7-2000\n",
      "Sunday,30-7-2000\n",
      "Sunday,6-8-2000\n",
      "Sunday,13-8-2000\n",
      "Sunday,20-8-2000\n",
      "Sunday,27-8-2000\n",
      "Sunday,3-9-2000\n",
      "Sunday,10-9-2000\n",
      "Sunday,17-9-2000\n",
      "Sunday,24-9-2000\n",
      "Sunday,1-10-2000\n",
      "Sunday,8-10-2000\n",
      "Sunday,15-10-2000\n",
      "Sunday,22-10-2000\n",
      "Sunday,29-10-2000\n",
      "Sunday,5-11-2000\n",
      "Sunday,12-11-2000\n",
      "Sunday,19-11-2000\n",
      "Sunday,26-11-2000\n",
      "Sunday,3-12-2000\n",
      "Sunday,10-12-2000\n",
      "Sunday,17-12-2000\n",
      "Sunday,24-12-2000\n",
      "Sunday,31-12-2000\n"
     ]
    }
   ],
   "source": [
    "from datetime import date\n",
    "import calendar\n",
    "Year= int(input(\"enter the year for which you want to find all Sundays: \"))\n",
    "Generate=calendar.TextCalendar(calendar.SUNDAY)\n",
    "for b in range(1,13):\n",
    "    for k in Generate.itermonthdays(Year,b):\n",
    "        if k!=0:\n",
    "            day=date(Year,b,k)\n",
    "            if day.weekday()==6:\n",
    "                print(\"%s,%d-%d-%d\" % (calendar.day_name[6] ,k,b,Year))\n"
   ]
  },
  {
   "cell_type": "markdown",
   "metadata": {
    "colab_type": "text",
    "id": "UIpziZ6Sjie-"
   },
   "source": [
    "(3) Python files reading and writing. Download the “[exercise_02_data _collection.zip](https://github.com/unt-iialab/info5731_spring2021/blob/main/class_exercises/exercise_02_data_collection.zip)” to your local and un-zip it.\n",
    "\n",
    "*   Write a program to read all the txt files and save the sentences in all the files into one csv file with two columns, the first column is sentence id (txt file name+sentence line number), the second column is the sentence text content. (4 points)\n",
    "*   Remove all the punctuations from the sentences, save the processed sentences into a new column in the same csv file. (4 points)\n",
    "*   Ask the user to enter a word, return all the sentences that include this word, three kinds of information should be returned: sentence id, sentence text content, the count that user input word appear in the sentence. (4 points)\n",
    "\n"
   ]
  },
  {
   "cell_type": "code",
   "execution_count": 10,
   "metadata": {
    "colab": {},
    "colab_type": "code",
    "id": "f3CUsrWOj1Xy"
   },
   "outputs": [
    {
     "ename": "FileNotFoundError",
     "evalue": "[WinError 3] The system cannot find the path specified: 'C:\\\\Users\\\\i24253/exercise_02_data_collection'",
     "output_type": "error",
     "traceback": [
      "\u001b[1;31m---------------------------------------------------------------------------\u001b[0m",
      "\u001b[1;31mFileNotFoundError\u001b[0m                         Traceback (most recent call last)",
      "\u001b[1;32m<ipython-input-10-0653048d21c2>\u001b[0m in \u001b[0;36m<module>\u001b[1;34m\u001b[0m\n\u001b[0;32m      4\u001b[0m \u001b[1;33m\u001b[0m\u001b[0m\n\u001b[0;32m      5\u001b[0m \u001b[1;31m#list the .txt files from the dir\u001b[0m\u001b[1;33m\u001b[0m\u001b[1;33m\u001b[0m\u001b[1;33m\u001b[0m\u001b[0m\n\u001b[1;32m----> 6\u001b[1;33m \u001b[0mlistOfFiles\u001b[0m \u001b[1;33m=\u001b[0m \u001b[0mos\u001b[0m\u001b[1;33m.\u001b[0m\u001b[0mlistdir\u001b[0m\u001b[1;33m(\u001b[0m\u001b[0mcwd\u001b[0m\u001b[1;33m+\u001b[0m\u001b[1;34m'/exercise_02_data_collection'\u001b[0m\u001b[1;33m)\u001b[0m\u001b[1;33m\u001b[0m\u001b[1;33m\u001b[0m\u001b[0m\n\u001b[0m\u001b[0;32m      7\u001b[0m \u001b[1;33m\u001b[0m\u001b[0m\n\u001b[0;32m      8\u001b[0m \u001b[1;31m#create a combined file to output the combined txt files\u001b[0m\u001b[1;33m\u001b[0m\u001b[1;33m\u001b[0m\u001b[1;33m\u001b[0m\u001b[0m\n",
      "\u001b[1;31mFileNotFoundError\u001b[0m: [WinError 3] The system cannot find the path specified: 'C:\\\\Users\\\\i24253/exercise_02_data_collection'"
     ]
    }
   ],
   "source": [
    "import os\n",
    "#get the current directory\n",
    "cwd = os.getcwd()\n",
    "\n",
    "#list the .txt files from the dir\n",
    "listOfFiles = os.listdir(cwd+'/exercise_02_data_collection')\n",
    "\n",
    "#create a combined file to output the combined txt files\n",
    "fileToWrite = open(\"Combined.csv\",'w')\n",
    "\n",
    "\n",
    "#change the directory to read the files\n",
    "os.chdir(cwd+'/exercise_02_data_collection')\n",
    "\n",
    "\n",
    "#allocate punctuation values\n",
    "punc = '''!()-[]{};:'\"\\, <>./?@#$%^&*_~'''\n",
    "\n",
    "\n",
    "for fileName in listOfFiles:\n",
    "    f = open(fileName,'r')\n",
    "    #returns all the lines for each file\n",
    "    lines = f.readlines()\n",
    "    \n",
    "    for  line in lines:\n",
    "        noPunc = line\n",
    "\n",
    "#loops through char in each line\n",
    "        for char in line:\n",
    "            if char in punc:\n",
    "                #replaces values with spaces\n",
    "                noPunc = noPunc.replace(char,\" \")\n",
    "\n",
    "#reads each line starting at index 1\n",
    "        sentenceLineNumber = (lines.index(line)+1)\n",
    "        line = line.rstrip(\"\\n\")\n",
    "        # outputs the filename with line number in each file and writes it to .csv file\n",
    "        fileToWrite.write(fileName+str(sentenceLineNumber)+',\"' + str(line)+'\",' +noPunc)\n",
    "\n",
    "\n",
    "def check_word(filename, listwords):\n",
    "    try:\n",
    "        file =open(filename,\"r\")\n",
    "        read=file.readlines()\n",
    "        file.close()\n",
    "        \n",
    "        for word in listwords:\n",
    "            lower=word.lower()\n",
    "            count=0\n",
    "            \n",
    "             #loop through the file to check the word\n",
    "            for sentence in read:\n",
    "                 line=sentence.split()\n",
    "                 for each in line:\n",
    "                     #ensuring all the words in the output file is lowercase\n",
    "                     line2=each.lower()\n",
    "                     line2=line2.strip(punc)\n",
    "                     \n",
    "                     if lower==line2:\n",
    "                        count+=1\n",
    "            print(lower, \":\", count)\n",
    "    except FileExistsError:\n",
    "        print(\"the File is nowhere to be found!\")\n",
    "    \n",
    "User_word=input(\"please enter the word you want to search\")                \n",
    "check_word(\"Combined.csv\", User_word)   \n",
    "    "
   ]
  },
  {
   "cell_type": "markdown",
   "metadata": {
    "colab_type": "text",
    "id": "-12cqmJEpZOh"
   },
   "source": [
    "(4) Install packages nltk, numpy, scipy, pandas, and sklearn on Google Colab. Write a program to test whether they are installed successfully. (3 points for extra)"
   ]
  },
  {
   "cell_type": "code",
   "execution_count": 0,
   "metadata": {
    "colab": {},
    "colab_type": "code",
    "id": "f1pn1Zl2qK77"
   },
   "outputs": [],
   "source": [
    "# write your answer here\n",
    "\n",
    "\n",
    "\n"
   ]
  }
 ],
 "metadata": {
  "colab": {
   "authorship_tag": "ABX9TyO+tpE40PgxRU/8NgGfGYzw",
   "collapsed_sections": [],
   "include_colab_link": true,
   "name": "In_class_exercise_02.ipynb",
   "provenance": []
  },
  "kernelspec": {
   "display_name": "Python 3",
   "language": "python",
   "name": "python3"
  },
  "language_info": {
   "codemirror_mode": {
    "name": "ipython",
    "version": 3
   },
   "file_extension": ".py",
   "mimetype": "text/x-python",
   "name": "python",
   "nbconvert_exporter": "python",
   "pygments_lexer": "ipython3",
   "version": "3.8.3"
  }
 },
 "nbformat": 4,
 "nbformat_minor": 1
}
