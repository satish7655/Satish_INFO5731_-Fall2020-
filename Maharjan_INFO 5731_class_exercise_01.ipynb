{
 "cells": [
  {
   "cell_type": "markdown",
   "metadata": {
    "colab_type": "text",
    "id": "view-in-github"
   },
   "source": [
    "<a href=\"https://colab.research.google.com/github/unt-iialab/INFO5731_Spring2020/blob/master/In_class_exercise/In_class_exercise_01.ipynb\" target=\"_parent\"><img src=\"https://colab.research.google.com/assets/colab-badge.svg\" alt=\"Open In Colab\"/></a>"
   ]
  },
  {
   "cell_type": "markdown",
   "metadata": {
    "colab_type": "text",
    "id": "DymRJbxDBCnf"
   },
   "source": [
    "# **The first In-class-exercise (9/2/2020, 20 points in total)**"
   ]
  },
  {
   "cell_type": "markdown",
   "metadata": {
    "colab_type": "text",
    "id": "03jb4GZsBkBS"
   },
   "source": [
    "(1) Write a Python program to calculate the length of a string. (2 points)"
   ]
  },
  {
   "cell_type": "code",
   "execution_count": 27,
   "metadata": {
    "colab": {},
    "colab_type": "code",
    "id": "YaGLbSHHB8Ej"
   },
   "outputs": [
    {
     "name": "stdout",
     "output_type": "stream",
     "text": [
      "enter the word to calculate the length: satish\n",
      "('The length of the string that user provided is:--->', 6)\n"
     ]
    }
   ],
   "source": [
    "def calulate_length(string):\n",
    "    count=0\n",
    "    for i in string:\n",
    "    \tcount=count+1\n",
    "               \n",
    "    return 'The length of the string that user provided is:--->', (count)\n",
    "\n",
    "user_input=input(\"enter the word to calculate the length: \")\n",
    "print(calulate_length(user_input))\n"
   ]
  },
  {
   "cell_type": "markdown",
   "metadata": {
    "colab_type": "text",
    "id": "jJDe71iLB616"
   },
   "source": [
    "(2) Write a Python program to count the number of characters in a string. (2 points)\n",
    "\n",
    "Sample String : 'google.com‘, \n",
    "\n",
    "Expected Result : {'o': 3, 'g': 2, '.': 1, 'e': 1, 'l': 1, 'm': 1, 'c': 1}"
   ]
  },
  {
   "cell_type": "code",
   "execution_count": 28,
   "metadata": {
    "colab": {},
    "colab_type": "code",
    "id": "MtKskTzbCLaU"
   },
   "outputs": [
    {
     "name": "stdout",
     "output_type": "stream",
     "text": [
      "enter the word to calculate the frequency: satish\n",
      "{'s': 2, 'a': 1, 't': 1, 'i': 1, 'h': 1}\n",
      "None\n"
     ]
    }
   ],
   "source": [
    "def freq_character(string):\n",
    "    \n",
    "    d=dict()#create a empty Dictionary\n",
    "    \n",
    "    for i in string:\n",
    "        if i in d:#check if the character is in the string, if yes add the frequency or else it will be 1\n",
    "            d[i]=d[i]+1\n",
    "        else:\n",
    "            d[i]=1\n",
    "    print (d)\n",
    "    \n",
    "user_input=input(\"enter the word to calculate the frequency: \")\n",
    "print (freq_character(user_input))\n"
   ]
  },
  {
   "cell_type": "markdown",
   "metadata": {
    "colab_type": "text",
    "id": "55W9AMdXCSpV"
   },
   "source": [
    "(3) Write a Python program to sum all the items in a list. (2 points)"
   ]
  },
  {
   "cell_type": "code",
   "execution_count": 29,
   "metadata": {
    "colab": {},
    "colab_type": "code",
    "id": "I57NXsauCec2"
   },
   "outputs": [
    {
     "name": "stdout",
     "output_type": "stream",
     "text": [
      "48\n"
     ]
    }
   ],
   "source": [
    "# write your answer here\n",
    "def sum_list(numbers):\n",
    "    sum=0\n",
    "    for i in numbers:\n",
    "        sum+=i\n",
    "    return sum\n",
    "    \n",
    "    \n",
    "print(sum_list([2,-4,100,-50])) "
   ]
  },
  {
   "cell_type": "markdown",
   "metadata": {
    "colab_type": "text",
    "id": "4ulBZ6yhCi9F"
   },
   "source": [
    "(4) Write a Python program to get a string from a given string where all occurrences of its first char have been changed to '\\$', except the first char itself. (2 points)\n",
    "\n",
    "Sample String : 'restart‘, \n",
    "\n",
    "Expected Result : 'resta\\$t'"
   ]
  },
  {
   "cell_type": "code",
   "execution_count": 30,
   "metadata": {
    "colab": {},
    "colab_type": "code",
    "id": "Fj0XhwbBCw2o"
   },
   "outputs": [
    {
     "name": "stdout",
     "output_type": "stream",
     "text": [
      "hello $i $ey- T$is is $$lk\n"
     ]
    }
   ],
   "source": [
    "def change_character(string):\n",
    "    first_char = string[0]\n",
    "    #slice the string and use the replace function for remaining\n",
    "    changed_char=string[1:].replace(first_char,'$')\n",
    "    return first_char+changed_char\n",
    "\n",
    "print(change_character(\"hello hi hey- This is hhlk\"))\n"
   ]
  },
  {
   "cell_type": "markdown",
   "metadata": {
    "colab_type": "text",
    "id": "_bIP7s1MCzue"
   },
   "source": [
    "(5) Write a program with python which could accept two parameter a and b to calculate and output the result of S, where \n",
    "\n",
    "$\\ S=3.14*(1+a/b)^3$ (3 points)\n",
    "\n"
   ]
  },
  {
   "cell_type": "code",
   "execution_count": 31,
   "metadata": {
    "colab": {},
    "colab_type": "code",
    "id": "w79QilHXD3Mg"
   },
   "outputs": [
    {
     "name": "stdout",
     "output_type": "stream",
     "text": [
      "14.537037037037033\n"
     ]
    }
   ],
   "source": [
    "def caclulate(a,b):\n",
    "    S= 3.14*((1+𝑎/𝑏)**3)\n",
    "    return S\n",
    "\n",
    "print(caclulate(2,3))"
   ]
  },
  {
   "cell_type": "markdown",
   "metadata": {
    "colab_type": "text",
    "id": "xCa2bK9aD4Q3"
   },
   "source": [
    "(6) Write a Python program to concatenate following dictionaries to create a new one. (3 points)\n",
    "\n",
    "Sample Dictionary : dic1={1:10, 2:20}, dic2={3:30, 4:40}, dic3={5:50,6:60}, \n",
    "\n",
    "Expected Result : {1: 10, 2: 20, 3: 30, 4: 40, 5: 50, 6: 60}\n"
   ]
  },
  {
   "cell_type": "code",
   "execution_count": 33,
   "metadata": {
    "colab": {},
    "colab_type": "code",
    "id": "_z4aLqAbEET1"
   },
   "outputs": [
    {
     "name": "stdout",
     "output_type": "stream",
     "text": [
      "Concatenated dictionary is: {1: 2, 3: 4, 5: 6}\n",
      "{1: 2, 3: 4, 5: 6}\n"
     ]
    }
   ],
   "source": [
    "dic1={1:10, 2:20}, \n",
    "dic2={3:30, 4:40},\n",
    "dic3={5:50,6:60},\n",
    "dic4={}\n",
    "for i in (dic1,dic2,dic3):\n",
    "    dic4.update(i)\n",
    "print(\"Concatenated dictionary is:\",dic4)\n",
    "\n"
   ]
  },
  {
   "cell_type": "markdown",
   "metadata": {
    "colab_type": "text",
    "id": "0v48Vqa7FrQh"
   },
   "source": [
    "(7) Write a Python program to check whether an element exists within a tuple. (3 points)"
   ]
  },
  {
   "cell_type": "code",
   "execution_count": 34,
   "metadata": {
    "colab": {},
    "colab_type": "code",
    "id": "7WEmgq-DF2P1"
   },
   "outputs": [
    {
     "name": "stdout",
     "output_type": "stream",
     "text": [
      "What is the element value you want to check in the provided tuple?:7\n",
      "7 exists in the provided tuple\n"
     ]
    }
   ],
   "source": [
    "def element_check(q):\n",
    "    user_search = input(\"What is the element value you want to check in the provided tuple?:\")\n",
    "    if user_search  in tup:\n",
    "       print(user_search, \"exists in the provided tuple\")\n",
    "       \n",
    "    else:\n",
    "         print(user_search, \"doesn't exists in the provided tuple\")\n",
    "     \n",
    "tup=(\"ehy\",\"sat\",\"hello\",\"glasses\",\"7\",\"how\")\n",
    "element_check(tup)\n"
   ]
  },
  {
   "cell_type": "markdown",
   "metadata": {
    "colab_type": "text",
    "id": "vD5PYLMuGga_"
   },
   "source": [
    "(8) Write a Python program to find maximum and the minimum value in a set. (3 points)"
   ]
  },
  {
   "cell_type": "code",
   "execution_count": 14,
   "metadata": {
    "colab": {},
    "colab_type": "code",
    "id": "t0D5kdJUGjjw"
   },
   "outputs": [
    {
     "name": "stdout",
     "output_type": "stream",
     "text": [
      "(899, -10)\n"
     ]
    }
   ],
   "source": [
    "def max_min(num):\n",
    "    minimum=min(num)\n",
    "    print(\"The minimun value from the given set is\", minimum)\n",
    "    maximum=max(num)\n",
    "    print(\"The Maximum value from the given set is\", maximum)\n",
    "    \n",
    "    \n",
    "print(max_min([100,200,140,23,67,899,200,20,-10,0]))"
   ]
  },
  {
   "cell_type": "markdown",
   "metadata": {
    "colab_type": "text",
    "id": "uHkd-y5VhVWC"
   },
   "source": [
    "(9) Write a Python program to randomly divide the students in this class into five groups for term projects, each group should have at least 3 students but no more than 5 students (including 5). Here is the students list: (3 points for extra)\n",
    "\n",
    "studnet_list = ['vmb0067','pc0353','snd0097','yye0005','sg0940','bk0301','rak0120','rrk0058','spk0057','vl0135','nm0547','pn0159',\n",
    "                'msp0174','dd0420','ds0761','rs0850','ss1995','at0739','at0768','mv0299','tv0119','dy0091']"
   ]
  },
  {
   "cell_type": "code",
   "execution_count": 26,
   "metadata": {
    "colab": {},
    "colab_type": "code",
    "id": "3iGbmcOBhTwy"
   },
   "outputs": [
    {
     "name": "stdout",
     "output_type": "stream",
     "text": [
      "*****\n",
      "Breaking down the list in different groups*****\n",
      "Group 1 consists of below students:\n",
      "ss1995\n",
      "ds0761\n",
      "mv0299\n",
      "rrk0058\n",
      "*****\n",
      "Breaking down the list in different groups*****\n",
      "Group 2 consists of below students:\n",
      "bk0301\n",
      "spk0057\n",
      "rs0850\n",
      "yye0005\n",
      "*****\n",
      "Breaking down the list in different groups*****\n",
      "Group 3 consists of below students:\n",
      "pn0159\n",
      "at0739\n",
      "vmb0067\n",
      "pc0353\n",
      "*****\n",
      "Breaking down the list in different groups*****\n",
      "Group 4 consists of below students:\n",
      "dd0420\n",
      "sg0940\n",
      "msp0174\n",
      "at0768\n",
      "*****\n",
      "Breaking down the list in different groups*****\n",
      "Group 5 consists of below students:\n",
      "nm0547\n",
      "snd0097\n",
      "tv0119\n",
      "dy0091\n",
      "*****\n",
      "Breaking down the list in different groups*****\n",
      "Group 6 consists of below students:\n",
      "vl0135\n",
      "rak0120\n"
     ]
    }
   ],
   "source": [
    "student_list = ['vmb0067','pc0353','snd0097','yye0005','sg0940','bk0301','rak0120','rrk0058','spk0057','vl0135','nm0547','pn0159', 'msp0174','dd0420','ds0761','rs0850','ss1995','at0739','at0768','mv0299','tv0119','dy0091']\n",
    "group=1\n",
    "membersInGroup=5\n",
    "\n",
    "for participant in student_list[:]:\n",
    "    if (membersInGroup>3):\n",
    "        print( \"*****\\nBreaking down the list in different groups*****\")\n",
    "        print(\"Group {} consists of below students:\".format(group))\n",
    "        membersInGroup=0\n",
    "        group+=1   \n",
    "        \n",
    "    student_selection=random.choice(student_list)\n",
    "    print(student_selection)\n",
    "    membersInGroup+=1\n",
    "    \n",
    "    student_list.remove(str(student_selection))"
   ]
  },
  {
   "cell_type": "code",
   "execution_count": null,
   "metadata": {},
   "outputs": [],
   "source": []
  }
 ],
 "metadata": {
  "colab": {
   "collapsed_sections": [],
   "include_colab_link": true,
   "name": "In_class_exercise_01.ipynb",
   "provenance": []
  },
  "kernelspec": {
   "display_name": "Python 3",
   "language": "python",
   "name": "python3"
  },
  "language_info": {
   "codemirror_mode": {
    "name": "ipython",
    "version": 3
   },
   "file_extension": ".py",
   "mimetype": "text/x-python",
   "name": "python",
   "nbconvert_exporter": "python",
   "pygments_lexer": "ipython3",
   "version": "3.8.3"
  }
 },
 "nbformat": 4,
 "nbformat_minor": 1
}
